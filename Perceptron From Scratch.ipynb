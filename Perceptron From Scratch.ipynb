{
 "cells": [
  {
   "cell_type": "markdown",
   "metadata": {},
   "source": [
    "# Following Along YouTube Tutorial"
   ]
  },
  {
   "cell_type": "code",
   "execution_count": 3,
   "metadata": {},
   "outputs": [],
   "source": [
    "# Import \n",
    "\n",
    "import numpy as np\n",
    "from sklearn.model_selection import train_test_split\n",
    "from sklearn import datasets"
   ]
  },
  {
   "cell_type": "code",
   "execution_count": 4,
   "metadata": {},
   "outputs": [],
   "source": [
    "# Create the dataset.\n",
    "\n",
    "x,y = datasets.make_blobs(n_samples=150, n_features=2, centers=2, cluster_std=1.05, random_state=1)\n",
    "x_train, x_test, y_train, y_test = train_test_split(x,y, test_size = 0.2, random_state=1)"
   ]
  },
  {
   "cell_type": "code",
   "execution_count": 7,
   "metadata": {},
   "outputs": [],
   "source": [
    "# Create the class\n",
    "\n",
    "class Preceptron:\n",
    "    \n",
    "    def __init__(self, lr = 0.01, n_iters = 1000):\n",
    "        self.lr = lr\n",
    "        self.n_iters = n_iters \n",
    "        self.activation_func = self._unit_step_func\n",
    "        self.weights = None\n",
    "        self.bias = None\n",
    "        \n",
    "    # Define the FIt function.\n",
    "    \n",
    "    def fit(self,x,y):\n",
    "        \n",
    "        n_samples, n_features = x.shape\n",
    "        \n",
    "    # Initialize the params\n",
    "        self.weights = np.zeros(n_features)\n",
    "        self.bias = 0\n",
    "        \n",
    "        y_ = np.array([1 if i >0 else 0 for i in y])\n",
    "        \n",
    "        for _ in range(self.n_iters):\n",
    "            \n",
    "            for index, x_i in enumerate(x):\n",
    "                \n",
    "                linear_output = np.dot(x_i, self.weights) + self.bias\n",
    "                y_pred = self.activation_func(linear_output)\n",
    "                \n",
    "                update = self.lr * (y_[index] - y_pred)\n",
    "                self.weights += update * x_i\n",
    "                self.bias += update \n",
    "                \n",
    "                \n",
    "    \n",
    "    \n",
    "    \n",
    "    # Define the predict function.\n",
    "    \n",
    "    def predict(self,x):\n",
    "        \n",
    "        linear_output = np.dot(x, self.weights) + self.bias\n",
    "        y_pred = self.activation_func(linear_output)\n",
    "        return y_pred\n",
    "    \n",
    "    # Create are activation function.\n",
    "    \n",
    "    def _unit_step_func(self,x):\n",
    "        \n",
    "        return np.where(x >= 0, 1, 0)"
   ]
  },
  {
   "cell_type": "code",
   "execution_count": 8,
   "metadata": {},
   "outputs": [],
   "source": [
    "# Create our accuracy\n",
    "\n",
    "def accuracy(y_true, y_pred):\n",
    "    \n",
    "    acc = np.sum( y_true == y_pred) / len(y_true)\n",
    "    return acc"
   ]
  },
  {
   "cell_type": "code",
   "execution_count": 11,
   "metadata": {},
   "outputs": [
    {
     "name": "stdout",
     "output_type": "stream",
     "text": [
      "1.0\n"
     ]
    }
   ],
   "source": [
    "# Try out the model here. \n",
    "\n",
    "pre = Preceptron(lr = 0.01, n_iters= 1000)\n",
    "pre.fit(x_train,y_train)\n",
    "predictions = pre.predict(x_test)\n",
    "\n",
    "acc = accuracy(y_test,predictions)\n",
    "print(acc)"
   ]
  }
 ],
 "metadata": {
  "kernelspec": {
   "display_name": "Python 3",
   "language": "python",
   "name": "python3"
  },
  "language_info": {
   "codemirror_mode": {
    "name": "ipython",
    "version": 3
   },
   "file_extension": ".py",
   "mimetype": "text/x-python",
   "name": "python",
   "nbconvert_exporter": "python",
   "pygments_lexer": "ipython3",
   "version": "3.7.6"
  }
 },
 "nbformat": 4,
 "nbformat_minor": 4
}
